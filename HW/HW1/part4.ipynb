{
 "cells": [
  {
   "cell_type": "markdown",
   "metadata": {},
   "source": [
    "# HW1 - part 4"
   ]
  },
  {
   "cell_type": "code",
   "execution_count": 10,
   "metadata": {},
   "outputs": [],
   "source": [
    "import sys, random,binascii,AES,jupyter_utils,random\n",
    "import matplotlib.pyplot as plt\n",
    "import numpy as np\n",
    "import pandas as pd\n",
    "from IPython.display import Markdown, display,HTML\n",
    "%matplotlib inline \n",
    "plt.rcParams['figure.dpi'] = 150\n"
   ]
  },
  {
   "cell_type": "markdown",
   "metadata": {},
   "source": [
    "This section will focus on the Diffusion principle and examine the extent to which a change in input or internal states affects the end result. The runs in the strain part will be performed on a single input block (16 characters)"
   ]
  },
  {
   "cell_type": "code",
   "execution_count": 6,
   "metadata": {},
   "outputs": [
    {
     "name": "stdout",
     "output_type": "stream",
     "text": [
      "Total Length: 16\n"
     ]
    },
    {
     "data": {
      "text/markdown": [
       "\n",
       "\"**_From the Pope to_**\""
      ],
      "text/plain": [
       "<IPython.core.display.Markdown object>"
      ]
     },
     "metadata": {},
     "output_type": "display_data"
    }
   ],
   "source": [
    "plaintext = \"From the Pope to\"\n",
    "print(\"Total Length:\",len(plaintext))\n",
    "display(Markdown(f'\\n\"**_{plaintext}_**\"'))\n"
   ]
  },
  {
   "cell_type": "markdown",
   "metadata": {},
   "source": [
    "And we will try to encrypt the message, using an encryption key **\"R is a Short key\"**\n",
    " "
   ]
  },
  {
   "cell_type": "code",
   "execution_count": 7,
   "metadata": {},
   "outputs": [
    {
     "name": "stdout",
     "output_type": "stream",
     "text": [
      "'R is a Short key':\n",
      " 0x5220697320612053686f7274206b6579\n"
     ]
    }
   ],
   "source": [
    "key = \"R is a Short key\"\n",
    "key = key.encode().hex()\n",
    "print(f\"'R is a Short key':\\n 0x{key}\")\n",
    "aes_lib = AES.AES(int(key,base=16))"
   ]
  },
  {
   "cell_type": "markdown",
   "metadata": {},
   "source": [
    "## Question 4:\n",
    "1. Run the AES algorithm, and save the intermediate results after each round (including the final result)\n",
    "2. Randomly select a bit in the login message and change it from 0 -> 1 or 1-> 0 accordingly Repeat (1) and calculate how many bits changed their value as a result of the change of the single bit in each round, and the encrypted message (relative to the same situation when no errors were injected)\n",
    "4. Repeat the experiment 5 times when each time you change one bit in relation to the message in (1) at the end of the runs, present a table"
   ]
  },
  {
   "cell_type": "code",
   "execution_count": 83,
   "metadata": {},
   "outputs": [
    {
     "data": {
      "text/plain": [
       "['cb95e6a2a56a602164f8bdc338622f85',\n",
       " 'cbf42cb3f27bbb6266e1e7abbc87199e',\n",
       " '5953b07e2a304dc27be50e6355176310',\n",
       " '203d5627e023761e3d86efd4ace38e38',\n",
       " 'b874b055f6f6fc733e8c7952dbf7ea9c',\n",
       " '1dba47880ed16f3c72d966c2526347cc',\n",
       " '737bf4f4317604824733b3b13695b2cf',\n",
       " 'd0d5082d7e23c65c2e2cd9304833f9f6',\n",
       " '54d92855bb1e7c8075c0eb813950e85d',\n",
       " '793ec12a27911757630e1fd3c4affd06']"
      ]
     },
     "metadata": {},
     "output_type": "display_data"
    }
   ],
   "source": [
    "def run_aes_stages(plaintext):\n",
    "    spec_enc_text = [\"\"]*10\n",
    "    for i in range(0, len(plaintext), 16):  \n",
    "        ciper = aes_lib.encrypt_by_stage(int(plaintext[i:i+16].encode().hex(),base=16))\n",
    "        for j,c in enumerate(ciper):\n",
    "            spec_enc_text[j] += ('{:x}'.format(c)).zfill(32)\n",
    "    return spec_enc_text\n",
    "spec_enc_text = run_aes_stages(plaintext)\n",
    "display(spec_enc_text)"
   ]
  },
  {
   "cell_type": "markdown",
   "metadata": {},
   "source": [
    "For stage II and on, we wants' to create a convertion function"
   ]
  },
  {
   "cell_type": "code",
   "execution_count": 78,
   "metadata": {},
   "outputs": [],
   "source": [
    "def tobits(s):\n",
    "    result = []\n",
    "    for c in s:\n",
    "        bits = bin(ord(c))[2:]\n",
    "        bits = '00000000'[len(bits):] + bits\n",
    "        result.extend([int(b) for b in bits])\n",
    "    return result\n",
    "\n",
    "def frombits(bits):\n",
    "    chars = []\n",
    "    for b in range(len(bits) // 8 ):\n",
    "        byte = bits[b*8:(b+1)*8]\n",
    "        chars.append(chr(int(''.join([str(bit) for bit in byte]), 2)))\n",
    "    return ''.join(chars)\n",
    "\n",
    "def count_flips_to_convert(a, b):\n",
    "\n",
    "    diff = a ^ b\n",
    "\n",
    "    # count number of ones in diff\n",
    "    count = 0\n",
    "    while diff:\n",
    "        diff &= (diff - 1)\n",
    "        count += 1\n",
    "    return count"
   ]
  },
  {
   "cell_type": "code",
   "execution_count": 82,
   "metadata": {},
   "outputs": [
    {
     "name": "stdout",
     "output_type": "stream",
     "text": [
      "The bit which was chosen to be replaced:  35\n",
      "Result: From0the Pope to\n"
     ]
    }
   ],
   "source": [
    "def flip_plaintext(plaintext):\n",
    "    bitflip_p = tobits(plaintext)\n",
    "    place = random.choice(range(len(bitflip_p)))\n",
    "    bitflip_p[place] = int(1 - bitflip_p[place])\n",
    "    bitflip_plaintext = frombits(bitflip_p)\n",
    "    return bitflip_plaintext,place\n",
    "bitflip_plaintext,place = flip_plaintext(plaintext)\n",
    "print(\"The bit which was chosen to be replaced: \", place)\n",
    "print(\"Result:\",bitflip_plaintext)"
   ]
  },
  {
   "cell_type": "code",
   "execution_count": 85,
   "metadata": {},
   "outputs": [
    {
     "data": {
      "text/plain": [
       "['cb95e6a2ecc3c9c164f8bdc338622f85',\n",
       " 'bfac009f79b37321e36473bab1900393',\n",
       " '6f26bfa59b3e4de0e34886ce95df8b80',\n",
       " 'cf044fd5ac7b9faac48423964571d2a3',\n",
       " '3f5a74f658909ed16e49e33f615f6e1b',\n",
       " '9f64bac419d1f1641e8fce1e44cecf4b',\n",
       " 'cd2ff326f7231ac44fb5ba889cb7f5f2',\n",
       " '0c6808fa98801ee145d71073e57ca2fc',\n",
       " '7872a5371d5eef691790aaccb38d3456',\n",
       " 'e51484d7694b94310e002de7bbda3241']"
      ]
     },
     "metadata": {},
     "output_type": "display_data"
    }
   ],
   "source": [
    "bitflip_spec_enc_text = run_aes_stages(bitflip_plaintext)\n",
    "display(bitflip_spec_enc_text)"
   ]
  },
  {
   "cell_type": "code",
   "execution_count": 86,
   "metadata": {},
   "outputs": [
    {
     "data": {
      "text/plain": [
       "[14, 50, 54, 64, 59, 60, 56, 72, 57, 69]"
      ]
     },
     "metadata": {},
     "output_type": "display_data"
    }
   ],
   "source": [
    "def calulate_diffrence(textlist,flip_textlist):\n",
    "    diff = []\n",
    "    for i in range(len(flip_textlist)):\n",
    "        p =  int(textlist[i],base=16)\n",
    "        c =  int(flip_textlist[i],base=16)\n",
    "        diff.append(count_flips_to_convert(p,c))\n",
    "    return diff\n",
    "diff = calulate_diffrence(bitflip_spec_enc_text,spec_enc_text)\n",
    "display(diff)"
   ]
  },
  {
   "cell_type": "code",
   "execution_count": 102,
   "metadata": {},
   "outputs": [],
   "source": [
    "table_result = np.zeros((6,len(bitflip_spec_enc_text)))\n",
    "\n",
    "for i in range(5):\n",
    "    bfp,place = flip_plaintext(plaintext)\n",
    "    bfp_stage = run_aes_stages(bfp)\n",
    "    table_result[i] = calulate_diffrence(bfp_stage,spec_enc_text)\n"
   ]
  },
  {
   "cell_type": "code",
   "execution_count": 110,
   "metadata": {},
   "outputs": [
    {
     "data": {
      "text/html": [
       "<div>\n",
       "<style scoped>\n",
       "    .dataframe tbody tr th:only-of-type {\n",
       "        vertical-align: middle;\n",
       "    }\n",
       "\n",
       "    .dataframe tbody tr th {\n",
       "        vertical-align: top;\n",
       "    }\n",
       "\n",
       "    .dataframe thead th {\n",
       "        text-align: right;\n",
       "    }\n",
       "</style>\n",
       "<table border=\"1\" class=\"dataframe\">\n",
       "  <thead>\n",
       "    <tr style=\"text-align: right;\">\n",
       "      <th></th>\n",
       "      <th>Round 1</th>\n",
       "      <th>Round 2</th>\n",
       "      <th>Round 3</th>\n",
       "      <th>Round 4</th>\n",
       "      <th>Round 5</th>\n",
       "      <th>Round 6</th>\n",
       "      <th>Round 7</th>\n",
       "      <th>Round 8</th>\n",
       "      <th>Round 9</th>\n",
       "      <th>Round 10</th>\n",
       "    </tr>\n",
       "  </thead>\n",
       "  <tbody>\n",
       "    <tr>\n",
       "      <th>0</th>\n",
       "      <td>15.000000</td>\n",
       "      <td>65.000000</td>\n",
       "      <td>63.000000</td>\n",
       "      <td>62.000000</td>\n",
       "      <td>62.000000</td>\n",
       "      <td>52.000000</td>\n",
       "      <td>69.000000</td>\n",
       "      <td>63.000000</td>\n",
       "      <td>56.000000</td>\n",
       "      <td>72.000000</td>\n",
       "    </tr>\n",
       "    <tr>\n",
       "      <th>1</th>\n",
       "      <td>17.000000</td>\n",
       "      <td>77.000000</td>\n",
       "      <td>59.000000</td>\n",
       "      <td>70.000000</td>\n",
       "      <td>66.000000</td>\n",
       "      <td>80.000000</td>\n",
       "      <td>68.000000</td>\n",
       "      <td>59.000000</td>\n",
       "      <td>57.000000</td>\n",
       "      <td>64.000000</td>\n",
       "    </tr>\n",
       "    <tr>\n",
       "      <th>2</th>\n",
       "      <td>55.000000</td>\n",
       "      <td>57.000000</td>\n",
       "      <td>71.000000</td>\n",
       "      <td>59.000000</td>\n",
       "      <td>58.000000</td>\n",
       "      <td>57.000000</td>\n",
       "      <td>67.000000</td>\n",
       "      <td>62.000000</td>\n",
       "      <td>63.000000</td>\n",
       "      <td>79.000000</td>\n",
       "    </tr>\n",
       "    <tr>\n",
       "      <th>3</th>\n",
       "      <td>20.000000</td>\n",
       "      <td>77.000000</td>\n",
       "      <td>72.000000</td>\n",
       "      <td>60.000000</td>\n",
       "      <td>58.000000</td>\n",
       "      <td>66.000000</td>\n",
       "      <td>62.000000</td>\n",
       "      <td>61.000000</td>\n",
       "      <td>63.000000</td>\n",
       "      <td>65.000000</td>\n",
       "    </tr>\n",
       "    <tr>\n",
       "      <th>4</th>\n",
       "      <td>15.000000</td>\n",
       "      <td>50.000000</td>\n",
       "      <td>72.000000</td>\n",
       "      <td>62.000000</td>\n",
       "      <td>68.000000</td>\n",
       "      <td>64.000000</td>\n",
       "      <td>68.000000</td>\n",
       "      <td>68.000000</td>\n",
       "      <td>60.000000</td>\n",
       "      <td>57.000000</td>\n",
       "    </tr>\n",
       "    <tr>\n",
       "      <th>5</th>\n",
       "      <td>23.722222</td>\n",
       "      <td>63.388889</td>\n",
       "      <td>65.527778</td>\n",
       "      <td>60.861111</td>\n",
       "      <td>60.666667</td>\n",
       "      <td>62.027778</td>\n",
       "      <td>64.944444</td>\n",
       "      <td>60.861111</td>\n",
       "      <td>58.138889</td>\n",
       "      <td>65.527778</td>\n",
       "    </tr>\n",
       "  </tbody>\n",
       "</table>\n",
       "</div>"
      ],
      "text/plain": [
       "     Round 1    Round 2    Round 3    Round 4    Round 5    Round 6  \\\n",
       "0  15.000000  65.000000  63.000000  62.000000  62.000000  52.000000   \n",
       "1  17.000000  77.000000  59.000000  70.000000  66.000000  80.000000   \n",
       "2  55.000000  57.000000  71.000000  59.000000  58.000000  57.000000   \n",
       "3  20.000000  77.000000  72.000000  60.000000  58.000000  66.000000   \n",
       "4  15.000000  50.000000  72.000000  62.000000  68.000000  64.000000   \n",
       "5  23.722222  63.388889  65.527778  60.861111  60.666667  62.027778   \n",
       "\n",
       "     Round 7    Round 8    Round 9   Round 10  \n",
       "0  69.000000  63.000000  56.000000  72.000000  \n",
       "1  68.000000  59.000000  57.000000  64.000000  \n",
       "2  67.000000  62.000000  63.000000  79.000000  \n",
       "3  62.000000  61.000000  63.000000  65.000000  \n",
       "4  68.000000  68.000000  60.000000  57.000000  \n",
       "5  64.944444  60.861111  58.138889  65.527778  "
      ]
     },
     "metadata": {},
     "output_type": "display_data"
    }
   ],
   "source": [
    "table_result[5] = np.mean(table_result, axis = 0)\n",
    "display(pd.DataFrame(table_result, columns=[f\"Round {col+1}\" for col in range(len(bitflip_spec_enc_text))]))"
   ]
  }
 ],
 "metadata": {
  "kernelspec": {
   "display_name": "Python 3",
   "language": "python",
   "name": "python3"
  },
  "language_info": {
   "codemirror_mode": {
    "name": "ipython",
    "version": 3
   },
   "file_extension": ".py",
   "mimetype": "text/x-python",
   "name": "python",
   "nbconvert_exporter": "python",
   "pygments_lexer": "ipython3",
   "version": "3.7.4"
  }
 },
 "nbformat": 4,
 "nbformat_minor": 4
}
