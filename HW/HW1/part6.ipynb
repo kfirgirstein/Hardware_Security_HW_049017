{
 "cells": [
  {
   "cell_type": "markdown",
   "metadata": {},
   "source": [
    "# HW1 - part 6\n",
    "<a id=part6></a>"
   ]
  },
  {
   "cell_type": "code",
   "execution_count": 10,
   "metadata": {},
   "outputs": [],
   "source": [
    "import sys, random,binascii,AES,jupyter_utils,random\n",
    "import matplotlib.pyplot as plt\n",
    "import numpy as np\n",
    "import pandas as pd\n",
    "from IPython.display import Markdown, display,HTML\n",
    "%matplotlib inline \n",
    "plt.rcParams['figure.dpi'] = 150\n"
   ]
  },
  {
   "cell_type": "markdown",
   "metadata": {},
   "source": [
    "This section will focus on the Diffusion principle and examine the extent to which a change in input or internal states affects the end result. The runs in the strain part will be performed on a single input block (16 characters)"
   ]
  },
  {
   "cell_type": "code",
   "execution_count": 11,
   "metadata": {},
   "outputs": [
    {
     "name": "stdout",
     "output_type": "stream",
     "text": [
      "Total Length: 16\n"
     ]
    },
    {
     "data": {
      "text/markdown": [
       "\n",
       "\"**_From the Pope to_**\""
      ],
      "text/plain": [
       "<IPython.core.display.Markdown object>"
      ]
     },
     "metadata": {},
     "output_type": "display_data"
    }
   ],
   "source": [
    "plaintext = \"From the Pope to\"\n",
    "print(\"Total Length:\",len(plaintext))\n",
    "display(Markdown(f'\\n\"**_{plaintext}_**\"'))\n"
   ]
  },
  {
   "cell_type": "code",
   "execution_count": 12,
   "metadata": {},
   "outputs": [
    {
     "name": "stdout",
     "output_type": "stream",
     "text": [
      "The bit which was chosen to be replaced:  110\n",
      "Result: From the Pope\"to\n"
     ]
    }
   ],
   "source": [
    "def tobits(s):\n",
    "    result = []\n",
    "    for c in s:\n",
    "        bits = bin(ord(c))[2:]\n",
    "        bits = '00000000'[len(bits):] + bits\n",
    "        result.extend([int(b) for b in bits])\n",
    "    return result\n",
    "\n",
    "def frombits(bits):\n",
    "    chars = []\n",
    "    for b in range(len(bits) // 8 ):\n",
    "        byte = bits[b*8:(b+1)*8]\n",
    "        chars.append(chr(int(''.join([str(bit) for bit in byte]), 2)))\n",
    "    return ''.join(chars)\n",
    "\n",
    "def count_flips_to_convert(a, b):\n",
    "\n",
    "    diff = a ^ b\n",
    "\n",
    "    # count number of ones in diff\n",
    "    count = 0\n",
    "    while diff:\n",
    "        diff &= (diff - 1)\n",
    "        count += 1\n",
    "    return count\n",
    "\n",
    "def flip_plaintext(plaintext):\n",
    "    bitflip_p = tobits(plaintext)\n",
    "    place = random.choice(range(len(bitflip_p)))\n",
    "    bitflip_p[place] = int(1 - bitflip_p[place])\n",
    "    bitflip_plaintext = frombits(bitflip_p)\n",
    "    return bitflip_plaintext,place\n",
    "bitflip_plaintext,place = flip_plaintext(plaintext)\n",
    "print(\"The bit which was chosen to be replaced: \", place)\n",
    "print(\"Result:\",bitflip_plaintext)"
   ]
  },
  {
   "cell_type": "markdown",
   "metadata": {},
   "source": [
    "And we will try to encrypt the message, using an encryption key **\"R is a Short key\"**\n",
    " "
   ]
  },
  {
   "cell_type": "code",
   "execution_count": 13,
   "metadata": {},
   "outputs": [
    {
     "name": "stdout",
     "output_type": "stream",
     "text": [
      "'R is a Short key':\n",
      " 0x5220697320612053686f7274206b6579\n",
      "0st key wasn't flipped\n",
      "1st key was flipped at place 76\n",
      "2st key was flipped at place 58\n",
      "3st key was flipped at place 31\n",
      "4st key was flipped at place 55\n",
      "5st key was flipped at place 34\n",
      "6st key was flipped at place 101\n"
     ]
    }
   ],
   "source": [
    "key = \"R is a Short key\"\n",
    "print(f\"'R is a Short key':\\n 0x{key.encode().hex()}\")\n",
    "\n",
    "keys = 7*[key]\n",
    "place = 7*[\"\"]\n",
    "aes_lib = 7*[\"\"]\n",
    "\n",
    "aes_lib[0] = AES.AES(int(keys[0].encode().hex(),base=16))\n",
    "print(\"0st key wasn't flipped\")\n",
    "for i in range(6):\n",
    "    keys[i+1],place[i+1] = flip_plaintext(key)\n",
    "    print(str(i+1) + \"st key was flipped at place \" + str(place[i+1]))\n",
    "    aes_lib[i+1] = AES.AES(int(keys[i+1].encode().hex(),base=16))"
   ]
  },
  {
   "cell_type": "markdown",
   "metadata": {},
   "source": [
    "## Question 6:\n",
    "1. Run the AES algorithm, and save the intermediate results after each round (including the final result)\n",
    "2. Randomly select a bit in the key and change it from 0 -> 1 or 1-> 0 accordingly Repeat (1) and calculate how many bits changed their value as a result of the change of the single bit in each round, and the encrypted message (relative to the same situation when no errors were injected)\n",
    "4. Repeat the experiment 5 or 6  times when each time you change one bit in relation to the message in (1) at the end of the runs, present a table"
   ]
  },
  {
   "cell_type": "code",
   "execution_count": 14,
   "metadata": {},
   "outputs": [
    {
     "data": {
      "text/plain": [
       "['cb95e6a2a56a602164f8bdc338622f85',\n",
       " 'cbf42cb3f27bbb6266e1e7abbc87199e',\n",
       " '5953b07e2a304dc27be50e6355176310',\n",
       " '203d5627e023761e3d86efd4ace38e38',\n",
       " 'b874b055f6f6fc733e8c7952dbf7ea9c',\n",
       " '1dba47880ed16f3c72d966c2526347cc',\n",
       " '737bf4f4317604824733b3b13695b2cf',\n",
       " 'd0d5082d7e23c65c2e2cd9304833f9f6',\n",
       " '54d92855bb1e7c8075c0eb813950e85d',\n",
       " '793ec12a27911757630e1fd3c4affd06']"
      ]
     },
     "metadata": {},
     "output_type": "display_data"
    }
   ],
   "source": [
    "def run_aes_stages(plaintext, key_num):\n",
    "    spec_enc_text = [\"\"]*10\n",
    "    for i in range(0, len(plaintext), 16):  \n",
    "        ciper = aes_lib[key_num].encrypt_by_stage(int(plaintext[i:i+16].encode().hex(),base=16))\n",
    "        for j,c in enumerate(ciper):\n",
    "            spec_enc_text[j] += ('{:x}'.format(c)).zfill(32)\n",
    "    return spec_enc_text\n",
    "spec_enc_text = run_aes_stages(plaintext, 0)\n",
    "display(spec_enc_text)"
   ]
  },
  {
   "cell_type": "code",
   "execution_count": 15,
   "metadata": {},
   "outputs": [
    {
     "name": "stdout",
     "output_type": "stream",
     "text": [
      "Displaying output with another key\n"
     ]
    },
    {
     "data": {
      "text/plain": [
       "['cb95e6a28faf8fce64f0bdc3386a2f85',\n",
       " '150257c8078f0330a0d4d5ef4c79443d',\n",
       " 'cb3fe5e533c8a0b4e9b7c10da2cd0230',\n",
       " 'cb8a3334f040f4dc3bc1ab619e270baa',\n",
       " 'fe8119a88e15aeb86cf62b573f96ceaf',\n",
       " '1b41fa229eec4587291a80e4202ff4ff',\n",
       " 'b3260284807cf48689f402d1504431f0',\n",
       " '63a613f7f63a9f15a3c8d6ba71f3a960',\n",
       " 'f12adadf880b0bb65bcefaeb36d8eb64',\n",
       " 'fe8480730fa0e0358e4ab2d29a7f08e3']"
      ]
     },
     "metadata": {},
     "output_type": "display_data"
    }
   ],
   "source": [
    "print(\"Displaying output with another key\")\n",
    "bitflip_spec_enc_text = run_aes_stages(plaintext, 1)\n",
    "display(bitflip_spec_enc_text)"
   ]
  },
  {
   "cell_type": "code",
   "execution_count": 16,
   "metadata": {},
   "outputs": [
    {
     "data": {
      "text/plain": [
       "[23, 75, 68, 54, 63, 68, 60, 58, 60, 63]"
      ]
     },
     "metadata": {},
     "output_type": "display_data"
    }
   ],
   "source": [
    "def calulate_diffrence(textlist,flip_textlist):\n",
    "    diff = []\n",
    "    for i in range(len(flip_textlist)):\n",
    "        p =  int(textlist[i],base=16)\n",
    "        c =  int(flip_textlist[i],base=16)\n",
    "        diff.append(count_flips_to_convert(p,c))\n",
    "    return diff\n",
    "diff = calulate_diffrence(bitflip_spec_enc_text,spec_enc_text)\n",
    "display(diff)"
   ]
  },
  {
   "cell_type": "code",
   "execution_count": 17,
   "metadata": {},
   "outputs": [],
   "source": [
    "table_result = np.zeros((7,len(bitflip_spec_enc_text)))\n",
    "\n",
    "for i in range(6):\n",
    "    bfp_stage = run_aes_stages(plaintext, key_num=1+i)\n",
    "    table_result[i] = calulate_diffrence(bfp_stage,spec_enc_text)\n"
   ]
  },
  {
   "cell_type": "code",
   "execution_count": 18,
   "metadata": {},
   "outputs": [
    {
     "data": {
      "text/html": [
       "<div>\n",
       "<style scoped>\n",
       "    .dataframe tbody tr th:only-of-type {\n",
       "        vertical-align: middle;\n",
       "    }\n",
       "\n",
       "    .dataframe tbody tr th {\n",
       "        vertical-align: top;\n",
       "    }\n",
       "\n",
       "    .dataframe thead th {\n",
       "        text-align: right;\n",
       "    }\n",
       "</style>\n",
       "<table border=\"1\" class=\"dataframe\">\n",
       "  <thead>\n",
       "    <tr style=\"text-align: right;\">\n",
       "      <th></th>\n",
       "      <th>Round 1</th>\n",
       "      <th>Round 2</th>\n",
       "      <th>Round 3</th>\n",
       "      <th>Round 4</th>\n",
       "      <th>Round 5</th>\n",
       "      <th>Round 6</th>\n",
       "      <th>Round 7</th>\n",
       "      <th>Round 8</th>\n",
       "      <th>Round 9</th>\n",
       "      <th>Round 10</th>\n",
       "    </tr>\n",
       "  </thead>\n",
       "  <tbody>\n",
       "    <tr>\n",
       "      <th>0</th>\n",
       "      <td>23.000000</td>\n",
       "      <td>75.000000</td>\n",
       "      <td>68.000000</td>\n",
       "      <td>54.000000</td>\n",
       "      <td>63.0</td>\n",
       "      <td>68.0</td>\n",
       "      <td>60.000000</td>\n",
       "      <td>58.0</td>\n",
       "      <td>60.000000</td>\n",
       "      <td>63.000000</td>\n",
       "    </tr>\n",
       "    <tr>\n",
       "      <th>1</th>\n",
       "      <td>13.000000</td>\n",
       "      <td>68.000000</td>\n",
       "      <td>58.000000</td>\n",
       "      <td>58.000000</td>\n",
       "      <td>65.0</td>\n",
       "      <td>54.0</td>\n",
       "      <td>63.000000</td>\n",
       "      <td>61.0</td>\n",
       "      <td>69.000000</td>\n",
       "      <td>59.000000</td>\n",
       "    </tr>\n",
       "    <tr>\n",
       "      <th>2</th>\n",
       "      <td>22.000000</td>\n",
       "      <td>62.000000</td>\n",
       "      <td>62.000000</td>\n",
       "      <td>67.000000</td>\n",
       "      <td>66.0</td>\n",
       "      <td>63.0</td>\n",
       "      <td>69.000000</td>\n",
       "      <td>61.0</td>\n",
       "      <td>61.000000</td>\n",
       "      <td>66.000000</td>\n",
       "    </tr>\n",
       "    <tr>\n",
       "      <th>3</th>\n",
       "      <td>21.000000</td>\n",
       "      <td>66.000000</td>\n",
       "      <td>65.000000</td>\n",
       "      <td>63.000000</td>\n",
       "      <td>69.0</td>\n",
       "      <td>67.0</td>\n",
       "      <td>66.000000</td>\n",
       "      <td>60.0</td>\n",
       "      <td>65.000000</td>\n",
       "      <td>58.000000</td>\n",
       "    </tr>\n",
       "    <tr>\n",
       "      <th>4</th>\n",
       "      <td>19.000000</td>\n",
       "      <td>63.000000</td>\n",
       "      <td>58.000000</td>\n",
       "      <td>71.000000</td>\n",
       "      <td>68.0</td>\n",
       "      <td>60.0</td>\n",
       "      <td>57.000000</td>\n",
       "      <td>64.0</td>\n",
       "      <td>68.000000</td>\n",
       "      <td>61.000000</td>\n",
       "    </tr>\n",
       "    <tr>\n",
       "      <th>5</th>\n",
       "      <td>27.000000</td>\n",
       "      <td>60.000000</td>\n",
       "      <td>54.000000</td>\n",
       "      <td>67.000000</td>\n",
       "      <td>56.0</td>\n",
       "      <td>69.0</td>\n",
       "      <td>50.000000</td>\n",
       "      <td>59.0</td>\n",
       "      <td>66.000000</td>\n",
       "      <td>61.000000</td>\n",
       "    </tr>\n",
       "    <tr>\n",
       "      <th>6</th>\n",
       "      <td>20.833333</td>\n",
       "      <td>65.666667</td>\n",
       "      <td>60.833333</td>\n",
       "      <td>63.333333</td>\n",
       "      <td>64.5</td>\n",
       "      <td>63.5</td>\n",
       "      <td>60.833333</td>\n",
       "      <td>60.5</td>\n",
       "      <td>64.833333</td>\n",
       "      <td>61.333333</td>\n",
       "    </tr>\n",
       "  </tbody>\n",
       "</table>\n",
       "</div>"
      ],
      "text/plain": [
       "     Round 1    Round 2    Round 3    Round 4  Round 5  Round 6    Round 7  \\\n",
       "0  23.000000  75.000000  68.000000  54.000000     63.0     68.0  60.000000   \n",
       "1  13.000000  68.000000  58.000000  58.000000     65.0     54.0  63.000000   \n",
       "2  22.000000  62.000000  62.000000  67.000000     66.0     63.0  69.000000   \n",
       "3  21.000000  66.000000  65.000000  63.000000     69.0     67.0  66.000000   \n",
       "4  19.000000  63.000000  58.000000  71.000000     68.0     60.0  57.000000   \n",
       "5  27.000000  60.000000  54.000000  67.000000     56.0     69.0  50.000000   \n",
       "6  20.833333  65.666667  60.833333  63.333333     64.5     63.5  60.833333   \n",
       "\n",
       "   Round 8    Round 9   Round 10  \n",
       "0     58.0  60.000000  63.000000  \n",
       "1     61.0  69.000000  59.000000  \n",
       "2     61.0  61.000000  66.000000  \n",
       "3     60.0  65.000000  58.000000  \n",
       "4     64.0  68.000000  61.000000  \n",
       "5     59.0  66.000000  61.000000  \n",
       "6     60.5  64.833333  61.333333  "
      ]
     },
     "metadata": {},
     "output_type": "display_data"
    }
   ],
   "source": [
    "table_result[6] = np.mean(table_result[:6], axis = 0)\n",
    "display(pd.DataFrame(table_result, columns=[f\"Round {col+1}\" for col in range(len(bitflip_spec_enc_text))]))"
   ]
  }
 ],
 "metadata": {
  "kernelspec": {
   "display_name": "Python 3",
   "language": "python",
   "name": "python3"
  },
  "language_info": {
   "codemirror_mode": {
    "name": "ipython",
    "version": 3
   },
   "file_extension": ".py",
   "mimetype": "text/x-python",
   "name": "python",
   "nbconvert_exporter": "python",
   "pygments_lexer": "ipython3",
   "version": "3.7.4"
  }
 },
 "nbformat": 4,
 "nbformat_minor": 4
}
