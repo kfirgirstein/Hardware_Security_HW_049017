{
 "cells": [
  {
   "cell_type": "markdown",
   "metadata": {},
   "source": [
    "##### HW1 - part 5"
   ]
  },
  {
   "cell_type": "code",
   "execution_count": 1,
   "metadata": {},
   "outputs": [],
   "source": [
    "import sys, random,binascii,AES,jupyter_utils,random\n",
    "import matplotlib.pyplot as plt\n",
    "import numpy as np\n",
    "import pandas as pd\n",
    "from IPython.display import Markdown, display,HTML\n",
    "%matplotlib inline \n",
    "plt.rcParams['figure.dpi'] = 150\n"
   ]
  },
  {
   "cell_type": "markdown",
   "metadata": {},
   "source": [
    "This section will focus on the Diffusion principle and examine the extent to which a change in input or internal states affects the end result. The runs in the strain part will be performed on a single input block (16 characters)"
   ]
  },
  {
   "cell_type": "code",
   "execution_count": 2,
   "metadata": {},
   "outputs": [
    {
     "name": "stdout",
     "output_type": "stream",
     "text": [
      "Total Length: 16\n"
     ]
    },
    {
     "data": {
      "text/markdown": [
       "\n",
       "\"**_From the Pope to_**\""
      ],
      "text/plain": [
       "<IPython.core.display.Markdown object>"
      ]
     },
     "metadata": {},
     "output_type": "display_data"
    }
   ],
   "source": [
    "plaintext = \"From the Pope to\"\n",
    "print(\"Total Length:\",len(plaintext))\n",
    "display(Markdown(f'\\n\"**_{plaintext}_**\"'))\n"
   ]
  },
  {
   "cell_type": "markdown",
   "metadata": {},
   "source": [
    "And we will try to encrypt the message, using an encryption key **\"R is a Short key\"**\n",
    " "
   ]
  },
  {
   "cell_type": "code",
   "execution_count": 3,
   "metadata": {},
   "outputs": [
    {
     "name": "stdout",
     "output_type": "stream",
     "text": [
      "'R is a Short key':\n",
      " 0x5220697320612053686f7274206b6579\n"
     ]
    }
   ],
   "source": [
    "key = \"R is a Short key\"\n",
    "key = key.encode().hex()\n",
    "print(f\"'R is a Short key':\\n 0x{key}\")\n",
    "aes_lib = AES.AES(int(key,base=16))"
   ]
  },
  {
   "cell_type": "markdown",
   "metadata": {},
   "source": [
    "##### Question 5:\n"
   ]
  },
  {
   "cell_type": "code",
   "execution_count": 4,
   "metadata": {
    "scrolled": false
   },
   "outputs": [
    {
     "data": {
      "text/html": [
       "<div>\n",
       "<style scoped>\n",
       "    .dataframe tbody tr th:only-of-type {\n",
       "        vertical-align: middle;\n",
       "    }\n",
       "\n",
       "    .dataframe tbody tr th {\n",
       "        vertical-align: top;\n",
       "    }\n",
       "\n",
       "    .dataframe thead th {\n",
       "        text-align: right;\n",
       "    }\n",
       "</style>\n",
       "<table border=\"1\" class=\"dataframe\">\n",
       "  <thead>\n",
       "    <tr style=\"text-align: right;\">\n",
       "      <th></th>\n",
       "      <th>0</th>\n",
       "      <th>1</th>\n",
       "      <th>2</th>\n",
       "      <th>3</th>\n",
       "      <th>4</th>\n",
       "      <th>5</th>\n",
       "      <th>6</th>\n",
       "      <th>7</th>\n",
       "      <th>8</th>\n",
       "      <th>9</th>\n",
       "    </tr>\n",
       "  </thead>\n",
       "  <tbody>\n",
       "    <tr>\n",
       "      <th>0</th>\n",
       "      <td>18</td>\n",
       "      <td>57</td>\n",
       "      <td>57</td>\n",
       "      <td>61</td>\n",
       "      <td>61</td>\n",
       "      <td>58</td>\n",
       "      <td>67</td>\n",
       "      <td>65</td>\n",
       "      <td>71</td>\n",
       "      <td>59</td>\n",
       "    </tr>\n",
       "    <tr>\n",
       "      <th>1</th>\n",
       "      <td>18</td>\n",
       "      <td>57</td>\n",
       "      <td>57</td>\n",
       "      <td>61</td>\n",
       "      <td>61</td>\n",
       "      <td>58</td>\n",
       "      <td>67</td>\n",
       "      <td>65</td>\n",
       "      <td>71</td>\n",
       "      <td>59</td>\n",
       "    </tr>\n",
       "    <tr>\n",
       "      <th>2</th>\n",
       "      <td>0</td>\n",
       "      <td>11</td>\n",
       "      <td>57</td>\n",
       "      <td>66</td>\n",
       "      <td>69</td>\n",
       "      <td>64</td>\n",
       "      <td>63</td>\n",
       "      <td>73</td>\n",
       "      <td>57</td>\n",
       "      <td>67</td>\n",
       "    </tr>\n",
       "    <tr>\n",
       "      <th>3</th>\n",
       "      <td>0</td>\n",
       "      <td>0</td>\n",
       "      <td>19</td>\n",
       "      <td>66</td>\n",
       "      <td>59</td>\n",
       "      <td>68</td>\n",
       "      <td>60</td>\n",
       "      <td>69</td>\n",
       "      <td>66</td>\n",
       "      <td>65</td>\n",
       "    </tr>\n",
       "    <tr>\n",
       "      <th>4</th>\n",
       "      <td>0</td>\n",
       "      <td>0</td>\n",
       "      <td>0</td>\n",
       "      <td>23</td>\n",
       "      <td>79</td>\n",
       "      <td>69</td>\n",
       "      <td>66</td>\n",
       "      <td>64</td>\n",
       "      <td>75</td>\n",
       "      <td>65</td>\n",
       "    </tr>\n",
       "    <tr>\n",
       "      <th>5</th>\n",
       "      <td>0</td>\n",
       "      <td>0</td>\n",
       "      <td>0</td>\n",
       "      <td>0</td>\n",
       "      <td>16</td>\n",
       "      <td>67</td>\n",
       "      <td>68</td>\n",
       "      <td>66</td>\n",
       "      <td>65</td>\n",
       "      <td>57</td>\n",
       "    </tr>\n",
       "    <tr>\n",
       "      <th>6</th>\n",
       "      <td>0</td>\n",
       "      <td>0</td>\n",
       "      <td>0</td>\n",
       "      <td>0</td>\n",
       "      <td>0</td>\n",
       "      <td>17</td>\n",
       "      <td>54</td>\n",
       "      <td>60</td>\n",
       "      <td>64</td>\n",
       "      <td>76</td>\n",
       "    </tr>\n",
       "    <tr>\n",
       "      <th>7</th>\n",
       "      <td>0</td>\n",
       "      <td>0</td>\n",
       "      <td>0</td>\n",
       "      <td>0</td>\n",
       "      <td>0</td>\n",
       "      <td>0</td>\n",
       "      <td>18</td>\n",
       "      <td>69</td>\n",
       "      <td>70</td>\n",
       "      <td>62</td>\n",
       "    </tr>\n",
       "    <tr>\n",
       "      <th>8</th>\n",
       "      <td>0</td>\n",
       "      <td>0</td>\n",
       "      <td>0</td>\n",
       "      <td>0</td>\n",
       "      <td>0</td>\n",
       "      <td>0</td>\n",
       "      <td>0</td>\n",
       "      <td>22</td>\n",
       "      <td>61</td>\n",
       "      <td>66</td>\n",
       "    </tr>\n",
       "    <tr>\n",
       "      <th>9</th>\n",
       "      <td>0</td>\n",
       "      <td>0</td>\n",
       "      <td>0</td>\n",
       "      <td>0</td>\n",
       "      <td>0</td>\n",
       "      <td>0</td>\n",
       "      <td>0</td>\n",
       "      <td>0</td>\n",
       "      <td>10</td>\n",
       "      <td>18</td>\n",
       "    </tr>\n",
       "    <tr>\n",
       "      <th>10</th>\n",
       "      <td>0</td>\n",
       "      <td>0</td>\n",
       "      <td>0</td>\n",
       "      <td>0</td>\n",
       "      <td>0</td>\n",
       "      <td>0</td>\n",
       "      <td>0</td>\n",
       "      <td>0</td>\n",
       "      <td>0</td>\n",
       "      <td>4</td>\n",
       "    </tr>\n",
       "  </tbody>\n",
       "</table>\n",
       "</div>"
      ],
      "text/plain": [
       "     0   1   2   3   4   5   6   7   8   9\n",
       "0   18  57  57  61  61  58  67  65  71  59\n",
       "1   18  57  57  61  61  58  67  65  71  59\n",
       "2    0  11  57  66  69  64  63  73  57  67\n",
       "3    0   0  19  66  59  68  60  69  66  65\n",
       "4    0   0   0  23  79  69  66  64  75  65\n",
       "5    0   0   0   0  16  67  68  66  65  57\n",
       "6    0   0   0   0   0  17  54  60  64  76\n",
       "7    0   0   0   0   0   0  18  69  70  62\n",
       "8    0   0   0   0   0   0   0  22  61  66\n",
       "9    0   0   0   0   0   0   0   0  10  18\n",
       "10   0   0   0   0   0   0   0   0   0   4"
      ]
     },
     "execution_count": 4,
     "metadata": {},
     "output_type": "execute_result"
    }
   ],
   "source": [
    "spec_enc_text = [\"\"]*12\n",
    "\n",
    "for i in range(-1,11):  \n",
    "    ciper = aes_lib.encrypt_by_stage(int(plaintext.encode().hex(),base=16), injection_itr=i)\n",
    "    spec_enc_text[i+1] = ciper\n",
    "\n",
    "\n",
    "spec_enc_diff = [\"\"]*11\n",
    "\n",
    "for i in range(0,11):\n",
    "    spec_enc_diff[i] = [bin(spec_enc_text[i+1][j] ^ spec_enc_text[0][j]).count(\"1\") for j in range(len(spec_enc_text[0]))]\n",
    "\n",
    "pd.DataFrame(spec_enc_diff)\n",
    "\n",
    "# table shows diff from non injected text\n",
    "# row = injection round [0,...,10]\n",
    "# col = intermediate stage [1,...,10]"
   ]
  }
 ],
 "metadata": {
  "kernelspec": {
   "display_name": "Python 3",
   "language": "python",
   "name": "python3"
  },
  "language_info": {
   "codemirror_mode": {
    "name": "ipython",
    "version": 3
   },
   "file_extension": ".py",
   "mimetype": "text/x-python",
   "name": "python",
   "nbconvert_exporter": "python",
   "pygments_lexer": "ipython3",
   "version": "3.8.5"
  }
 },
 "nbformat": 4,
 "nbformat_minor": 4
}
