{
 "cells": [
  {
   "cell_type": "markdown",
   "metadata": {},
   "source": [
    "# EE049017: Hardware Systems Security \n",
    "# Homework Assignment 1\n",
    "\n",
    "Faculty of Electronic Engineering, Technion."
   ]
  },
  {
   "cell_type": "markdown",
   "metadata": {},
   "source": [
    "Submitted by:\n",
    "\n",
    "| #       |              Name |             Id |             email |\n",
    "|---------|-------------------|----------------|------------------ |\n",
    "|Student 1|  kfir girstein | 316541218 |kfirgirstein@campus.technion |\n",
    "|Student 2|  [your name here] | [your id here] | [your email here] |"
   ]
  },
  {
   "cell_type": "markdown",
   "metadata": {},
   "source": [
    "## Contents\n",
    "- [Part 1: Plaintext Vs Ciphertext histogram](#part1)\n",
    "- [Part 2: Special Keys](#part2)\n",
    "    - [All '0'](#part2.a)\n",
    "    - [All '1'](#part2.b)\n",
    "- [Part 3: Change S-box](#part3)\n",
    "    - [Random](#part3.rand)\n",
    "    - [Continuous](#part3.seq)\n",
    "- [Part 4: Diffusion Random Plaintext Bitflip](#part4)\n",
    "- [Part 5: Diffusion 9th Plaintext Bitflip](#part5)\n",
    "- [Part 6: Diffusion Key Bitflip](#part6)\n",
    "- [Summary](#summary)"
   ]
  }
 ],
 "metadata": {
  "kernelspec": {
   "display_name": "Python 3",
   "language": "python",
   "name": "python3"
  },
  "language_info": {
   "codemirror_mode": {
    "name": "ipython",
    "version": 3
   },
   "file_extension": ".py",
   "mimetype": "text/x-python",
   "name": "python",
   "nbconvert_exporter": "python",
   "pygments_lexer": "ipython3",
   "version": "3.7.4"
  },
  "toc-autonumbering": false,
  "toc-showcode": false,
  "toc-showmarkdowntxt": false
 },
 "nbformat": 4,
 "nbformat_minor": 4
}
