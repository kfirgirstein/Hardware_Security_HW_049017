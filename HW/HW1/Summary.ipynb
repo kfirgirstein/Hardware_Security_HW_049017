{
 "cells": [
  {
   "cell_type": "markdown",
   "metadata": {},
   "source": [
    "# Summary and Conclusions\n",
    "<a id=\"summary\"><a/>"
   ]
  },
  {
   "cell_type": "markdown",
   "metadata": {},
   "source": [
    "In the first three questions, we have seen that all the histograms look entirely different from the original since the first iteration.\n",
    "Thus, we can say that these findings support the property of confusion.\n",
    "In the last three questions, we can see that the flipping of one bit in the plaintext or the key changes the result dramatically.\n",
    "However, depending on the flipping location and the iteration number, we have seen that there is a large variance in the number of flipped bits in the following text state."
   ]
  }
 ],
 "metadata": {
  "kernelspec": {
   "display_name": "Python 3",
   "language": "python",
   "name": "python3"
  },
  "language_info": {
   "codemirror_mode": {
    "name": "ipython",
    "version": 3
   },
   "file_extension": ".py",
   "mimetype": "text/x-python",
   "name": "python",
   "nbconvert_exporter": "python",
   "pygments_lexer": "ipython3",
   "version": "3.7.4"
  },
  "toc-autonumbering": false,
  "toc-showcode": false,
  "toc-showmarkdowntxt": false
 },
 "nbformat": 4,
 "nbformat_minor": 4
}
