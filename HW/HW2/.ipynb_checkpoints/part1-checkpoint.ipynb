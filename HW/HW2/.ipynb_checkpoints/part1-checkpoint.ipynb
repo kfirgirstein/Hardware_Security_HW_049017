{
 "cells": [
  {
   "cell_type": "markdown",
   "metadata": {},
   "source": [
    "# Part One - Finding the Key from a Synthetic Power Model"
   ]
  },
  {
   "cell_type": "code",
   "execution_count": 1,
   "metadata": {},
   "outputs": [],
   "source": [
    "import numpy as np\n",
    "import sys"
   ]
  },
  {
   "cell_type": "markdown",
   "metadata": {},
   "source": [
    "This part aims to generate for a particular key (`{0x2b, 0x7e, 0x15,0x16,0x28,0xae, 0xd2,0xa6,0xab, 0xf7,0x15,0x88,0x09,0xcf, 0x4f, 0x3c}` as shown in the attached AES_GenPowerProfile.c file) A collection of power traces that contain for each message with 32 bytes"
   ]
  },
  {
   "cell_type": "markdown",
   "metadata": {},
   "source": [
    "* The Ciphertext can be found in the CIPHERFILE.dat file on the site\n",
    "* In the state at the entrance to round 9, you can calculate using inverse pomegranates in the DoM_actual_wrapper.py file (requires adjustments)\n",
    "* It is required to create two tables, one for calculating the power based on HW and the other while relying on HD\n",
    "    * HW - how many \"1 \"s are in the state to end each Round\n",
    "    * HD - how many bits were changed between the state at the end of each stage, compared to the value of the state in the previous stage (the initial state (not in the table) is the input)\n",
    "    \n",
    "At the end of this stage you have \"in your hands\" two matrices with the help of which we can predict the key with which we have encrypted all the messages (place the same key)"
   ]
  },
  {
   "cell_type": "code",
   "execution_count": 3,
   "metadata": {},
   "outputs": [],
   "source": [
    "CIPHERFILE_PATH = \"CIPHERFILE.dat\"\n",
    "SAMPLEFILE_PATH = \"SAMPLEFILE.dat\"\n",
    "SAMPLEFILE_HD_PATH = \"SAMPLEFILE_HD.dat\"\n",
    "SAMPLEFREQFILE_PATH = \"SAMPLEFREQFILE.dat\""
   ]
  },
  {
   "cell_type": "code",
   "execution_count": 2,
   "metadata": {},
   "outputs": [
    {
     "ename": "FileNotFoundError",
     "evalue": "[Errno 2] No such file or directory: 'CIPHERFILE.dat'",
     "output_type": "error",
     "traceback": [
      "\u001b[1;31m---------------------------------------------------------------------------\u001b[0m",
      "\u001b[1;31mFileNotFoundError\u001b[0m                         Traceback (most recent call last)",
      "\u001b[1;32m<ipython-input-2-100a00ab6325>\u001b[0m in \u001b[0;36m<module>\u001b[1;34m\u001b[0m\n\u001b[0;32m      1\u001b[0m \u001b[0mcipher\u001b[0m \u001b[1;33m=\u001b[0m \u001b[1;33m[\u001b[0m\u001b[1;33m]\u001b[0m\u001b[1;33m\u001b[0m\u001b[1;33m\u001b[0m\u001b[0m\n\u001b[1;32m----> 2\u001b[1;33m \u001b[1;32mwith\u001b[0m \u001b[0mopen\u001b[0m\u001b[1;33m(\u001b[0m\u001b[1;34m\"CIPHERFILE.dat\"\u001b[0m\u001b[1;33m)\u001b[0m \u001b[1;32mas\u001b[0m \u001b[0mfp\u001b[0m\u001b[1;33m:\u001b[0m\u001b[1;33m\u001b[0m\u001b[1;33m\u001b[0m\u001b[0m\n\u001b[0m\u001b[0;32m      3\u001b[0m     \u001b[1;32mfor\u001b[0m \u001b[0mline\u001b[0m \u001b[1;32min\u001b[0m \u001b[0mfp\u001b[0m\u001b[1;33m:\u001b[0m\u001b[1;33m\u001b[0m\u001b[1;33m\u001b[0m\u001b[0m\n\u001b[0;32m      4\u001b[0m         \u001b[0mcipher\u001b[0m \u001b[1;33m+=\u001b[0m \u001b[1;33m[\u001b[0m\u001b[0mline\u001b[0m\u001b[1;33m.\u001b[0m\u001b[0msplit\u001b[0m\u001b[1;33m(\u001b[0m\u001b[1;33m)\u001b[0m\u001b[1;33m]\u001b[0m\u001b[1;33m\u001b[0m\u001b[1;33m\u001b[0m\u001b[0m\n\u001b[0;32m      5\u001b[0m \u001b[1;33m\u001b[0m\u001b[0m\n",
      "\u001b[1;31mFileNotFoundError\u001b[0m: [Errno 2] No such file or directory: 'CIPHERFILE.dat'"
     ]
    }
   ],
   "source": [
    "cipher = []\n",
    "with open(CIPHERFILE_PATH,\"r\") as fp: \n",
    "    for line in fp: \n",
    "        cipher += [line.split()]\n",
    "\n",
    "samples = []        \n",
    "with open(SAMPLEFILE_PATH,\"r\") as fp: \n",
    "    for line in fp: \n",
    "        samples += [np.array([int(i) for i in line.split()])]\n",
    "\n",
    "samples_hd = []\n",
    "with open(SAMPLEFILE_HD_PATH,\"r\") as fp:\n",
    "    for line in fp:\n",
    "        samples_hd += [np.array([int(i) for i in line.split()])]\n",
    "\n",
    "\n",
    "sample_freqs = []\n",
    "with open(SAMPLEFREQFILE_PATH,\"r\") as fp: \n",
    "    for line in fp: \n",
    "        sample_freqs += [int(line.split()[0])]"
   ]
  },
  {
   "cell_type": "markdown",
   "metadata": {},
   "source": [
    "After creating the tables, we will begin the \"prediction\" process of the key, using the DOM method learned in class. The method works as follows (suppose here we want to guess the value of the first house of the key, using the right bit (LSB of the house)"
   ]
  },
  {
   "cell_type": "markdown",
   "metadata": {},
   "source": [
    "* For each house in Ciphertext we will go over all the possible values ​​of the selected house of the developer\n",
    "    * Using the inverse functions (also given in the file) calculate what was the value of the state which was used as input to the phase\n",
    "    * Based on the value of select bit, suppose we have chosen the LSB of the house, we will sum their power value, at their absolute value, or to bin0 or bin1. For all 12 sampling points\n",
    "    * At the end of the transition on all the encrypted messages, we will get two vectors which should normalize them according to the number of messages used in each bin\n",
    "    * The normal vectors we subtract from each other and the absolute value of the differences, at the various points, is used to select the key, using one of the following three cryorions\n",
    "        * The key used to create the largest difference for the selected house\n",
    "        * The key used to create the largest difference for one of the sampling points (vector point)\n",
    "        * The key used to create the large average difference\n",
    "        "
   ]
  },
  {
   "cell_type": "code",
   "execution_count": null,
   "metadata": {},
   "outputs": [],
   "source": []
  }
 ],
 "metadata": {
  "kernelspec": {
   "display_name": "Python 3",
   "language": "python",
   "name": "python3"
  },
  "language_info": {
   "codemirror_mode": {
    "name": "ipython",
    "version": 3
   },
   "file_extension": ".py",
   "mimetype": "text/x-python",
   "name": "python",
   "nbconvert_exporter": "python",
   "pygments_lexer": "ipython3",
   "version": "3.7.4"
  }
 },
 "nbformat": 4,
 "nbformat_minor": 4
}
