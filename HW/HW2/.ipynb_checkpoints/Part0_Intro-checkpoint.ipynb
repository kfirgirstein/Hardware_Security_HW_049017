{
 "cells": [
  {
   "cell_type": "markdown",
   "metadata": {},
   "source": [
    "# EE049017: Hardware Systems Security \n",
    "# Homework Assignment 2\n",
    "\n",
    "Faculty of Electronic Engineering, Technion."
   ]
  },
  {
   "cell_type": "markdown",
   "metadata": {},
   "source": [
    "Submitted by:\n",
    "\n",
    "| #       |              Name |             Id |             email |\n",
    "|---------|-------------------|----------------|------------------ |\n",
    "|Student 1|  Kfir Girstein | 316541218 |kfirgirstein@campus.technion |\n",
    "|Student 2|  Alon Berkenstadt | 205710205 | alon.b@campus.technion.ac.il |"
   ]
  },
  {
   "cell_type": "markdown",
   "metadata": {},
   "source": [
    "## Contents\n",
    "- [Part 1: Part One - Finding the Key from a Synthetic Power Model](#part1)\n",
    "- [Part 2: # Finding the Key Using TRACES Sampled from Real Machines](#part2)\n",
    "    - [DPA](#part2_cpa)\n",
    "    - [CPA](#part2_dpa)"
   ]
  },
  {
   "cell_type": "markdown",
   "metadata": {},
   "source": [
    "### The answers notebooks can be obtained by cloning the HW repo [Hardware_Security_HW_049017](https://github.com/kfirgirstein/Hardware_Security_HW_049017/tree/main/HW/HW1), or viewed in your browser by using nbviewer. and a notebook [nbviewer](https://nbviewer.jupyter.org/github/kfirgirstein/Hardware_Security_HW_049017/tree/main/HW/HW1)"
   ]
  }
 ],
 "metadata": {
  "kernelspec": {
   "display_name": "Python 3",
   "language": "python",
   "name": "python3"
  },
  "language_info": {
   "codemirror_mode": {
    "name": "ipython",
    "version": 3
   },
   "file_extension": ".py",
   "mimetype": "text/x-python",
   "name": "python",
   "nbconvert_exporter": "python",
   "pygments_lexer": "ipython3",
   "version": "3.7.4"
  },
  "toc-autonumbering": false,
  "toc-showcode": false,
  "toc-showmarkdowntxt": false
 },
 "nbformat": 4,
 "nbformat_minor": 4
}
