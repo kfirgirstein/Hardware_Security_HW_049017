{
 "cells": [
  {
   "cell_type": "markdown",
   "metadata": {},
   "source": [
    "# Finding the Key Using TRACES Sampled from Real Machines"
   ]
  },
  {
   "cell_type": "code",
   "execution_count": 2,
   "metadata": {},
   "outputs": [],
   "source": [
    "import csv\n",
    "import numpy as np\n",
    "import os\n",
    "import matplotlib.pyplot as plt"
   ]
  },
  {
   "cell_type": "markdown",
   "metadata": {},
   "source": [
    "For this part we use real traces which were taken from FPGA which performed encryption using AES\n",
    "The database for all samples at the time of the last round can be found in the file `\"_DATA1_keyset_9_attack.csv\"`"
   ]
  },
  {
   "cell_type": "code",
   "execution_count": 1,
   "metadata": {},
   "outputs": [],
   "source": [
    "KEYSET_FILE_PATH  = \"./Resources/_DATA1_keyset_9_attack.csv\"\n",
    "DOM_OUT_PATH = \"./Resources/DoM_Ex_Sample.dat\""
   ]
  },
  {
   "cell_type": "code",
   "execution_count": 3,
   "metadata": {},
   "outputs": [],
   "source": [
    "wstart = 10\n",
    "wstop = 1999\n",
    "wlen = wstop-wstart\n",
    "InvSbox = (\n",
    "    0x52, 0x09, 0x6A, 0xD5, 0x30, 0x36, 0xA5, 0x38, 0xBF, 0x40, 0xA3, 0x9E, 0x81, 0xF3, 0xD7, 0xFB,\n",
    "    0x7C, 0xE3, 0x39, 0x82, 0x9B, 0x2F, 0xFF, 0x87, 0x34, 0x8E, 0x43, 0x44, 0xC4, 0xDE, 0xE9, 0xCB,\n",
    "    0x54, 0x7B, 0x94, 0x32, 0xA6, 0xC2, 0x23, 0x3D, 0xEE, 0x4C, 0x95, 0x0B, 0x42, 0xFA, 0xC3, 0x4E,\n",
    "    0x08, 0x2E, 0xA1, 0x66, 0x28, 0xD9, 0x24, 0xB2, 0x76, 0x5B, 0xA2, 0x49, 0x6D, 0x8B, 0xD1, 0x25,\n",
    "    0x72, 0xF8, 0xF6, 0x64, 0x86, 0x68, 0x98, 0x16, 0xD4, 0xA4, 0x5C, 0xCC, 0x5D, 0x65, 0xB6, 0x92,\n",
    "    0x6C, 0x70, 0x48, 0x50, 0xFD, 0xED, 0xB9, 0xDA, 0x5E, 0x15, 0x46, 0x57, 0xA7, 0x8D, 0x9D, 0x84,\n",
    "    0x90, 0xD8, 0xAB, 0x00, 0x8C, 0xBC, 0xD3, 0x0A, 0xF7, 0xE4, 0x58, 0x05, 0xB8, 0xB3, 0x45, 0x06,\n",
    "    0xD0, 0x2C, 0x1E, 0x8F, 0xCA, 0x3F, 0x0F, 0x02, 0xC1, 0xAF, 0xBD, 0x03, 0x01, 0x13, 0x8A, 0x6B,\n",
    "    0x3A, 0x91, 0x11, 0x41, 0x4F, 0x67, 0xDC, 0xEA, 0x97, 0xF2, 0xCF, 0xCE, 0xF0, 0xB4, 0xE6, 0x73,\n",
    "    0x96, 0xAC, 0x74, 0x22, 0xE7, 0xAD, 0x35, 0x85, 0xE2, 0xF9, 0x37, 0xE8, 0x1C, 0x75, 0xDF, 0x6E,\n",
    "    0x47, 0xF1, 0x1A, 0x71, 0x1D, 0x29, 0xC5, 0x89, 0x6F, 0xB7, 0x62, 0x0E, 0xAA, 0x18, 0xBE, 0x1B,\n",
    "    0xFC, 0x56, 0x3E, 0x4B, 0xC6, 0xD2, 0x79, 0x20, 0x9A, 0xDB, 0xC0, 0xFE, 0x78, 0xCD, 0x5A, 0xF4,\n",
    "    0x1F, 0xDD, 0xA8, 0x33, 0x88, 0x07, 0xC7, 0x31, 0xB1, 0x12, 0x10, 0x59, 0x27, 0x80, 0xEC, 0x5F,\n",
    "    0x60, 0x51, 0x7F, 0xA9, 0x19, 0xB5, 0x4A, 0x0D, 0x2D, 0xE5, 0x7A, 0x9F, 0x93, 0xC9, 0x9C, 0xEF,\n",
    "    0xA0, 0xE0, 0x3B, 0x4D, 0xAE, 0x2A, 0xF5, 0xB0, 0xC8, 0xEB, 0xBB, 0x3C, 0x83, 0x53, 0x99, 0x61,\n",
    "    0x17, 0x2B, 0x04, 0x7E, 0xBA, 0x77, 0xD6, 0x26, 0xE1, 0x69, 0x14, 0x63, 0x55, 0x21, 0x0C, 0x7D,\n",
    ")"
   ]
  },
  {
   "cell_type": "markdown",
   "metadata": {},
   "source": [
    "## Section 1"
   ]
  },
  {
   "cell_type": "markdown",
   "metadata": {},
   "source": [
    "Perform DoM based on real data"
   ]
  },
  {
   "cell_type": "code",
   "execution_count": 4,
   "metadata": {},
   "outputs": [],
   "source": [
    "dom_arr = np.zeros((256,wlen),dtype='float')\n",
    "sarr_a = np.array([0]*wlen)\n",
    "sarr_b = np.array([0]*wlen)\n",
    "ntraces_a = 0\n",
    "ntraces_b = 0\n",
    "number_of_traces = 2000\n"
   ]
  },
  {
   "cell_type": "code",
   "execution_count": 5,
   "metadata": {},
   "outputs": [],
   "source": [
    "csv_reader_data = []\n",
    "with open(KEYSET_FILE_PATH) as csv_file:\n",
    "        temp_csv_reader = csv.reader(csv_file, delimiter=',')\n",
    "        for row in temp_csv_reader:\n",
    "            csv_reader_data.append(row)"
   ]
  },
  {
   "cell_type": "code",
   "execution_count": 6,
   "metadata": {},
   "outputs": [
    {
     "name": "stdout",
     "output_type": "stream",
     "text": [
      "Processing: 0x0\n",
      "Processing: 0xa\n",
      "Processing: 0x14\n",
      "Processing: 0x1e\n",
      "Processing: 0x28\n",
      "Processing: 0x32\n",
      "Processing: 0x3c\n",
      "Processing: 0x46\n",
      "Processing: 0x50\n",
      "Processing: 0x5a\n",
      "Processing: 0x64\n",
      "Processing: 0x6e\n",
      "Processing: 0x78\n",
      "Processing: 0x82\n",
      "Processing: 0x8c\n",
      "Processing: 0x96\n",
      "Processing: 0xa0\n",
      "Processing: 0xaa\n",
      "Processing: 0xb4\n",
      "Processing: 0xbe\n",
      "Processing: 0xc8\n",
      "Processing: 0xd2\n",
      "Processing: 0xdc\n",
      "Processing: 0xe6\n",
      "Processing: 0xf0\n",
      "Processing: 0xfa\n",
      "DoM computation Complete\n"
     ]
    }
   ],
   "source": [
    "print_every = 10\n",
    "if os.path.exists(DOM_OUT_PATH):\n",
    "    with open(DOM_OUT_PATH,\"r\") as fp: \n",
    "        for KeyGuess,line in enumerate(fp): \n",
    "            if (KeyGuess % print_every == 0):\n",
    "                print(\"Processing: \"+ hex(KeyGuess))\n",
    "            dom_arr[KeyGuess]=float(line)\n",
    "    print(\"DoM computation Complete\")\n",
    "else:\n",
    "    with open(DOM_OUT_PATH,\"w\") as fp: \n",
    "        for KeyGuess in range(0,256):\n",
    "            if (KeyGuess % print_every == 0):\n",
    "                print(\"Processing: \"+ hex(KeyGuess))\n",
    "            dofmean=np.zeros(wlen,dtype='float')\n",
    "            i=0\n",
    "            csv_reader = csv_reader_data\n",
    "            for row in csv_reader:\n",
    "                ct = int(row[1],16)\n",
    "                ct_temp=ct>>120\n",
    "\n",
    "                # write the DoM computation code here\n",
    "                # Update the variable sarr_a and sarr_b depending\n",
    "                # upon the lsb of the hypothetical leakage value\n",
    "                ################ My Code #######################\n",
    "\n",
    "                BIT_MASK = 2**0\n",
    "                r9_temp = InvSbox[ct_temp ^ KeyGuess]\n",
    "                select_bit = 0 if (r9_temp & BIT_MASK == 0) else 1\n",
    "\n",
    "                ### Sum traces power by bit value\n",
    "                if select_bit == 0:\n",
    "                    sarr_a += np.array([int(row[j],16) for j in range(wstart,wstop)])\n",
    "                    ntraces_a += 1\n",
    "                else:\n",
    "                    sarr_b += np.array([int(row[j],16) for j in range(wstart,wstop)])\n",
    "                    ntraces_b += 1\n",
    "\n",
    "                ################################################\n",
    "                if i==number_of_traces: break\n",
    "\n",
    "            # Update the valriable marr_a and marr_b with the mean of sarr_a\n",
    "            # and sarr_b and compute the DoM value in the variable dofmean\n",
    "            marr_a = 1.0 * sarr_a / ntraces_a\n",
    "            marr_b = 1.0 * sarr_b / ntraces_b\n",
    "            dofmean = np.abs(marr_a-marr_b)\n",
    "\n",
    "            dom_arr[KeyGuess] = dofmean\n",
    "            fp.write(f\"{max(dofmean)}\\n\")\n",
    "            ntraces_a=0\n",
    "            ntraces_b=0\n",
    "            sarr_a = np.array([0]*wlen)\n",
    "            sarr_b = np.array([0]*wlen)\n",
    "            del dofmean\n",
    "    print(\"DoM computation Complete\")"
   ]
  },
  {
   "cell_type": "code",
   "execution_count": 9,
   "metadata": {},
   "outputs": [
    {
     "name": "stdout",
     "output_type": "stream",
     "text": [
      "correct_key_byte=0xbe\n"
     ]
    }
   ],
   "source": [
    "maxval=0\n",
    "correct_key = float(\"nan\")\n",
    "for i in range(256):\n",
    "    row = dom_arr[i]\n",
    "    tp = range(len(row))\n",
    "    if(maxval<max(row)):\n",
    "        maxval=max(row)\n",
    "        correct_key=i\n",
    "        correct_row=row\n",
    "        \n",
    "print (\"correct_key_byte=\" + hex(correct_key))"
   ]
  },
  {
   "cell_type": "code",
   "execution_count": 13,
   "metadata": {},
   "outputs": [
    {
     "data": {
      "image/png": "[encoded data removed]",
      "text/plain": [
       "<Figure size 432x288 with 1 Axes>"
      ]
     },
     "metadata": {
      "needs_background": "light"
     },
     "output_type": "display_data"
    }
   ],
   "source": [
    "fig, ax1 = plt.subplots()\n",
    "for i in range(256):\n",
    "    row=dom_arr[i]\n",
    "    tp=range(len(row))\n",
    "    if (i==correct_key):\n",
    "        plt.plot(range(len(correct_row)),correct_row , 'r', linewidth=0.2,label='Correct Key Byte')\n",
    "    else:\n",
    "        plt.plot(tp, row, 'k', linewidth=0.2)\n",
    "\n",
    "ax1.legend()\n",
    "plt.locator_params(axis='y', nbins=5)\n",
    "plt.title('Difference of Mean Plot')\n",
    "plt.xlabel('Sample Points')\n",
    "plt.ylabel('Difference of Mean')\n",
    "plt.savefig(\"DOM_AllKeyByte.png\",dpi=1200,bbox_inches='tight')\n",
    "plt.show()"
   ]
  }
 ],
 "metadata": {
  "kernelspec": {
   "display_name": "Python 3",
   "language": "python",
   "name": "python3"
  },
  "language_info": {
   "codemirror_mode": {
    "name": "ipython",
    "version": 3
   },
   "file_extension": ".py",
   "mimetype": "text/x-python",
   "name": "python",
   "nbconvert_exporter": "python",
   "pygments_lexer": "ipython3",
   "version": "3.7.9"
  }
 },
 "nbformat": 4,
 "nbformat_minor": 4
}
